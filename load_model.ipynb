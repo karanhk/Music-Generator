{
 "cells": [
  {
   "cell_type": "code",
   "execution_count": 1,
   "id": "b944f7dd",
   "metadata": {},
   "outputs": [],
   "source": [
    "import numpy as np # linear algebra\n",
    "import pandas as pd # data processing, CSV file I/O (e.g. pd.read_csv)\n",
    "\n",
    "import os\n",
    "from matplotlib import pyplot as plt\n",
    "from tqdm import tqdm\n",
    "from PIL import Image as Img\n",
    "import tensorflow as tf\n",
    "from keras import Input\n",
    "from keras.layers import Dense, Reshape, LeakyReLU, Conv2D, Conv2DTranspose, Flatten, Dropout\n",
    "from keras.models import Model\n",
    "from keras.optimizers import RMSprop"
   ]
  },
  {
   "cell_type": "code",
   "execution_count": 3,
   "id": "854ce98a",
   "metadata": {},
   "outputs": [
    {
     "name": "stdout",
     "output_type": "stream",
     "text": [
      "Metal device set to: Apple M1\n",
      "WARNING:tensorflow:No training configuration found in the save file, so the model was *not* compiled. Compile it manually.\n"
     ]
    }
   ],
   "source": [
    "model = tf.keras.models.load_model(\"generator.h5\")"
   ]
  },
  {
   "cell_type": "code",
   "execution_count": 4,
   "id": "c837ec57",
   "metadata": {},
   "outputs": [
    {
     "name": "stderr",
     "output_type": "stream",
     "text": [
      "/Users/karanhadiyal/anaconda3/lib/python3.10/site-packages/keras/optimizers/legacy/rmsprop.py:143: UserWarning: The `lr` argument is deprecated, use `learning_rate` instead.\n",
      "  super().__init__(name, **kwargs)\n"
     ]
    }
   ],
   "source": [
    "optimizer = RMSprop(\n",
    "        lr=.0001,\n",
    "        clipvalue=1.0,\n",
    "        decay=1e-8\n",
    "    )\n",
    "\n",
    "model.compile(\n",
    "        optimizer=optimizer,\n",
    "        loss='binary_crossentropy'\n",
    "    )"
   ]
  },
  {
   "cell_type": "code",
   "execution_count": 5,
   "id": "a713484f",
   "metadata": {},
   "outputs": [
    {
     "name": "stdout",
     "output_type": "stream",
     "text": [
      "Model: \"model\"\n",
      "_________________________________________________________________\n",
      " Layer (type)                Output Shape              Param #   \n",
      "=================================================================\n",
      " input_1 (InputLayer)        [(None, 14)]              0         \n",
      "                                                                 \n",
      " dense (Dense)               (None, 71680)             1075200   \n",
      "                                                                 \n",
      " leaky_re_lu (LeakyReLU)     (None, 71680)             0         \n",
      "                                                                 \n",
      " reshape (Reshape)           (None, 14, 40, 128)       0         \n",
      "                                                                 \n",
      " conv2d (Conv2D)             (None, 14, 40, 256)       819456    \n",
      "                                                                 \n",
      " leaky_re_lu_1 (LeakyReLU)   (None, 14, 40, 256)       0         \n",
      "                                                                 \n",
      " conv2d_transpose (Conv2DTra  (None, 28, 80, 256)      1048832   \n",
      " nspose)                                                         \n",
      "                                                                 \n",
      " leaky_re_lu_2 (LeakyReLU)   (None, 28, 80, 256)       0         \n",
      "                                                                 \n",
      " conv2d_transpose_1 (Conv2DT  (None, 56, 160, 256)     1048832   \n",
      " ranspose)                                                       \n",
      "                                                                 \n",
      " leaky_re_lu_3 (LeakyReLU)   (None, 56, 160, 256)      0         \n",
      "                                                                 \n",
      " conv2d_transpose_2 (Conv2DT  (None, 112, 320, 256)    1048832   \n",
      " ranspose)                                                       \n",
      "                                                                 \n",
      " leaky_re_lu_4 (LeakyReLU)   (None, 112, 320, 256)     0         \n",
      "                                                                 \n",
      " conv2d_1 (Conv2D)           (None, 112, 320, 512)     3277312   \n",
      "                                                                 \n",
      " leaky_re_lu_5 (LeakyReLU)   (None, 112, 320, 512)     0         \n",
      "                                                                 \n",
      " conv2d_2 (Conv2D)           (None, 112, 320, 512)     6554112   \n",
      "                                                                 \n",
      " leaky_re_lu_6 (LeakyReLU)   (None, 112, 320, 512)     0         \n",
      "                                                                 \n",
      " conv2d_3 (Conv2D)           (None, 106, 300, 1)       75265     \n",
      "                                                                 \n",
      "=================================================================\n",
      "Total params: 14,947,841\n",
      "Trainable params: 14,947,841\n",
      "Non-trainable params: 0\n",
      "_________________________________________________________________\n"
     ]
    }
   ],
   "source": [
    "model.summary()"
   ]
  },
  {
   "cell_type": "code",
   "execution_count": 16,
   "id": "13ec9817",
   "metadata": {},
   "outputs": [
    {
     "name": "stdout",
     "output_type": "stream",
     "text": [
      "1/1 [==============================] - 0s 18ms/step\n",
      "1/1 [==============================] - 0s 16ms/step\n",
      "1/1 [==============================] - 0s 15ms/step\n",
      "1/1 [==============================] - 0s 14ms/step\n",
      "1/1 [==============================] - 0s 17ms/step\n",
      "1/1 [==============================] - 0s 16ms/step\n",
      "1/1 [==============================] - 0s 13ms/step\n",
      "1/1 [==============================] - 0s 15ms/step\n",
      "1/1 [==============================] - 0s 15ms/step\n",
      "1/1 [==============================] - 0s 15ms/step\n"
     ]
    }
   ],
   "source": [
    "for i in range(10):\n",
    "    latent_vectors = np.random.normal(size=(1,14))\n",
    "    generated = model.predict(latent_vectors)\n",
    "    generated = generated.reshape(106,300)\n",
    "    generated = np.uint8(generated * 255)\n",
    "    im = Img.fromarray(generated)\n",
    "    path = \"/Users/karanhadiyal/Desktop/Music generation/output/\"\n",
    "    im.save(path + 'generated_' + str(i) + '.png')"
   ]
  }
 ],
 "metadata": {
  "kernelspec": {
   "display_name": "Python 3 (ipykernel)",
   "language": "python",
   "name": "python3"
  },
  "language_info": {
   "codemirror_mode": {
    "name": "ipython",
    "version": 3
   },
   "file_extension": ".py",
   "mimetype": "text/x-python",
   "name": "python",
   "nbconvert_exporter": "python",
   "pygments_lexer": "ipython3",
   "version": "3.10.9"
  }
 },
 "nbformat": 4,
 "nbformat_minor": 5
}
