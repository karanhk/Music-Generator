{
 "cells": [
  {
   "cell_type": "code",
   "execution_count": 1,
   "id": "f155207f",
   "metadata": {},
   "outputs": [],
   "source": [
    "from music21 import converter, instrument, note, chord\n",
    "import sys\n",
    "import numpy as np\n",
    "from imageio import imwrite\n",
    "from glob import glob"
   ]
  },
  {
   "cell_type": "code",
   "execution_count": 2,
   "id": "568d4716",
   "metadata": {},
   "outputs": [],
   "source": [
    "def extractNote(element):\n",
    "    return int(element.pitch.ps)\n",
    "\n",
    "def extractDuration(element):\n",
    "    return element.duration.quarterLength"
   ]
  },
  {
   "cell_type": "code",
   "execution_count": 3,
   "id": "ba3a5e74",
   "metadata": {},
   "outputs": [],
   "source": [
    "def get_notes(notes_to_parse):\n",
    "\n",
    "    \"\"\" Get all the notes and chords from the midi files in the ./midi_songs directory \"\"\"\n",
    "    durations = []\n",
    "    notes = []\n",
    "    start = []\n",
    "\n",
    "    for element in notes_to_parse:\n",
    "        if isinstance(element, note.Note):\n",
    "            if element.isRest:\n",
    "                continue\n",
    "\n",
    "            start.append(element.offset)\n",
    "            notes.append(extractNote(element))\n",
    "            durations.append(extractDuration(element))\n",
    "                \n",
    "        elif isinstance(element, chord.Chord):\n",
    "            if element.isRest:\n",
    "                continue\n",
    "            for chord_note in element:\n",
    "                start.append(element.offset)\n",
    "                durations.append(extractDuration(element))\n",
    "                notes.append(extractNote(chord_note))\n",
    "\n",
    "    return {\"start\":start, \"pitch\":notes, \"dur\":durations}\n"
   ]
  },
  {
   "cell_type": "code",
   "execution_count": 7,
   "id": "8bb4045d",
   "metadata": {},
   "outputs": [],
   "source": [
    "def midi2image(midi_path, max_repetitions = float(\"inf\"), resolution = 0.25, lowerBoundNote = 21, upperBoundNote = 127, maxSongLength = 300):\n",
    "    mid = converter.parse(midi_path)\n",
    "\n",
    "    instruments = instrument.partitionByInstrument(mid)\n",
    "\n",
    "    data = {}\n",
    "\n",
    "    try:\n",
    "        i=0\n",
    "        for instrument_i in instruments.parts:\n",
    "            notes_to_parse = instrument_i.recurse()\n",
    "\n",
    "            notes_data = get_notes(notes_to_parse)\n",
    "            if len(notes_data[\"start\"]) == 0:\n",
    "                continue\n",
    "\n",
    "            if instrument_i.partName is None:\n",
    "                data[\"instrument_{}\".format(i)] = notes_data\n",
    "                i+=1\n",
    "            else:\n",
    "                data[instrument_i.partName] = notes_data\n",
    "\n",
    "    except:\n",
    "        notes_to_parse = mid.flat.notes\n",
    "        data[\"instrument_0\"] = get_notes(notes_to_parse)\n",
    "\n",
    "    for instrument_name, values in data.items():\n",
    "        # https://en.wikipedia.org/wiki/Scientific_pitch_notation#Similar_systems\n",
    "\n",
    "        pitches = values[\"pitch\"]\n",
    "        durs = values[\"dur\"]\n",
    "        starts = values[\"start\"]\n",
    "\n",
    "        index = 0\n",
    "        while index < max_repetitions:\n",
    "            matrix = np.zeros((upperBoundNote-lowerBoundNote,maxSongLength))\n",
    "\n",
    "\n",
    "            for dur, start, pitch in zip(durs, starts, pitches):\n",
    "                dur = int(dur/resolution)\n",
    "                start = int(start/resolution)\n",
    "\n",
    "                if not start > index*(maxSongLength+1) or not dur+start < index*maxSongLength:\n",
    "                    for j in range(start,start+dur):\n",
    "                        if j - index*maxSongLength >= 0 and j - index*maxSongLength < maxSongLength:\n",
    "                            matrix[pitch-lowerBoundNote,j - index*maxSongLength] = 255\n",
    "\n",
    "            if matrix.any(): # If matrix contains no notes (only zeros) don't save it\n",
    "                imwrite(os.getcwd() + \"/images/\" + midi_path.split(\"/\")[-1].replace(\".midi\",f\"_{instrument_name}_{index}.png\"),matrix.astype(np.uint8))\n",
    "                index += 1\n",
    "            else:\n",
    "                break\n"
   ]
  },
  {
   "cell_type": "code",
   "execution_count": 20,
   "id": "4ecf195d",
   "metadata": {},
   "outputs": [],
   "source": [
    "a = os.getcwd() + \"/maestro/2009/\"\n",
    "filenames = os.listdir(a)"
   ]
  },
  {
   "cell_type": "code",
   "execution_count": 21,
   "id": "4a91063d",
   "metadata": {},
   "outputs": [],
   "source": [
    "for i in range(len(filenames)):\n",
    "    midi2image(os.getcwd() + \"/maestro/2009/\" + filenames[i])"
   ]
  },
  {
   "cell_type": "code",
   "execution_count": 22,
   "id": "faf52b39",
   "metadata": {},
   "outputs": [],
   "source": [
    "a = os.getcwd() + \"/maestro/2011/\"\n",
    "filenames = os.listdir(a)\n",
    "for i in range(len(filenames)):\n",
    "    midi2image(os.getcwd() + \"/maestro/2011/\" + filenames[i])"
   ]
  },
  {
   "cell_type": "code",
   "execution_count": 23,
   "id": "ada3504c",
   "metadata": {},
   "outputs": [],
   "source": [
    "a = os.getcwd() + \"/maestro/2013/\"\n",
    "filenames = os.listdir(a)\n",
    "for i in range(len(filenames)):\n",
    "    midi2image(os.getcwd() + \"/maestro/2013/\" + filenames[i])"
   ]
  },
  {
   "cell_type": "code",
   "execution_count": null,
   "id": "cf9d8618",
   "metadata": {},
   "outputs": [],
   "source": [
    "a = os.getcwd() + \"/maestro/2014/\"\n",
    "filenames = os.listdir(a)\n",
    "for i in range(len(filenames)):\n",
    "    midi2image(os.getcwd() + \"/maestro/2014/\" + filenames[i])"
   ]
  },
  {
   "cell_type": "code",
   "execution_count": 25,
   "id": "faac96c8",
   "metadata": {},
   "outputs": [],
   "source": [
    "a = os.getcwd() + \"/maestro/2015/\"\n",
    "filenames = os.listdir(a)\n",
    "for i in range(len(filenames)):\n",
    "    midi2image(os.getcwd() + \"/maestro/2015/\" + filenames[i])"
   ]
  },
  {
   "cell_type": "code",
   "execution_count": 26,
   "id": "8319a39b",
   "metadata": {},
   "outputs": [],
   "source": [
    "a = os.getcwd() + \"/maestro/2017/\"\n",
    "filenames = os.listdir(a)\n",
    "for i in range(len(filenames)):\n",
    "    midi2image(os.getcwd() + \"/maestro/2017/\" + filenames[i])"
   ]
  },
  {
   "cell_type": "code",
   "execution_count": null,
   "id": "e89d38e5",
   "metadata": {},
   "outputs": [],
   "source": [
    "a = os.getcwd() + \"/maestro/2018/\"\n",
    "filenames = os.listdir(a)\n",
    "for i in range(len(filenames)):\n",
    "    midi2image(os.getcwd() + \"/maestro/2018/\" + filenames[i])"
   ]
  }
 ],
 "metadata": {
  "kernelspec": {
   "display_name": "Python 3 (ipykernel)",
   "language": "python",
   "name": "python3"
  },
  "language_info": {
   "codemirror_mode": {
    "name": "ipython",
    "version": 3
   },
   "file_extension": ".py",
   "mimetype": "text/x-python",
   "name": "python",
   "nbconvert_exporter": "python",
   "pygments_lexer": "ipython3",
   "version": "3.10.9"
  }
 },
 "nbformat": 4,
 "nbformat_minor": 5
}
