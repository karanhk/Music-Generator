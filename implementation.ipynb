{
 "cells": [
  {
   "cell_type": "code",
   "execution_count": 12,
   "id": "9b431bde",
   "metadata": {},
   "outputs": [],
   "source": [
    "import numpy as np # linear algebra\n",
    "import pandas as pd # data processing, CSV file I/O (e.g. pd.read_csv)\n",
    "\n",
    "import os\n",
    "from matplotlib import pyplot as plt\n",
    "from tqdm import tqdm\n",
    "from PIL import Image as Img\n",
    "import tensorflow as tf\n",
    "from keras import Input\n",
    "from keras.layers import Dense, Reshape, LeakyReLU, Conv2D, Conv2DTranspose, Flatten, Dropout\n",
    "from keras.models import Model\n",
    "from keras.optimizers import RMSprop"
   ]
  },
  {
   "cell_type": "code",
   "execution_count": 13,
   "id": "572fc054",
   "metadata": {},
   "outputs": [
    {
     "data": {
      "text/plain": [
       "[PhysicalDevice(name='/physical_device:GPU:0', device_type='GPU')]"
      ]
     },
     "execution_count": 13,
     "metadata": {},
     "output_type": "execute_result"
    }
   ],
   "source": [
    "tf.config.experimental.list_physical_devices('GPU')"
   ]
  },
  {
   "cell_type": "code",
   "execution_count": 16,
   "id": "1c281637",
   "metadata": {},
   "outputs": [
    {
     "data": {
      "text/plain": [
       "'/Users/karanhadiyal/Desktop/Music generation/ipynb files and model'"
      ]
     },
     "execution_count": 16,
     "metadata": {},
     "output_type": "execute_result"
    }
   ],
   "source": [
    "os.getcwd()"
   ]
  },
  {
   "cell_type": "code",
   "execution_count": 17,
   "id": "f2c316bf",
   "metadata": {},
   "outputs": [
    {
     "name": "stderr",
     "output_type": "stream",
     "text": [
      "100%|███████████████████████████████████| 14000/14000 [00:02<00:00, 4719.24it/s]\n"
     ]
    }
   ],
   "source": [
    "PIC_DIR = \"/Users/karanhadiyal/Desktop/Music generation//processed images/\"\n",
    "IMAGES_COUNT = 14000\n",
    "\n",
    "images = []\n",
    "for pic_file in tqdm(os.listdir(PIC_DIR)[:IMAGES_COUNT]):\n",
    "    pic = Img.open(PIC_DIR + pic_file)\n",
    "    images.append(np.uint8(pic))"
   ]
  },
  {
   "cell_type": "code",
   "execution_count": 18,
   "id": "4d3c063d",
   "metadata": {},
   "outputs": [
    {
     "name": "stdout",
     "output_type": "stream",
     "text": [
      "(14000, 106, 300, 1)\n"
     ]
    }
   ],
   "source": [
    "WIDTH = 300\n",
    "HEIGHT = 106\n",
    "images = np.array(images) / 255\n",
    "images = images.reshape(14000,106,300,1)\n",
    "print(images.shape)"
   ]
  },
  {
   "cell_type": "code",
   "execution_count": 19,
   "id": "06bc75eb",
   "metadata": {},
   "outputs": [
    {
     "data": {
      "text/plain": [
       "<matplotlib.image.AxesImage at 0x287939210>"
      ]
     },
     "execution_count": 19,
     "metadata": {},
     "output_type": "execute_result"
    },
    {
     "data": {
      "image/png": "[encoded data removed]",
      "text/plain": [
       "<Figure size 640x480 with 1 Axes>"
      ]
     },
     "metadata": {},
     "output_type": "display_data"
    }
   ],
   "source": [
    "plt.imshow(images[30])"
   ]
  },
  {
   "cell_type": "code",
   "execution_count": 20,
   "id": "c9d86e70",
   "metadata": {},
   "outputs": [],
   "source": [
    "LATENT_DIM = 14\n",
    "CHANNELS = 1\n",
    "\n",
    "def create_generator():\n",
    "    gen_input = Input(shape=(LATENT_DIM, ))\n",
    "\n",
    "    x = Dense(128 * 14 * 40)(gen_input)\n",
    "    x = LeakyReLU()(x)\n",
    "    x = Reshape((14, 40, 128))(x)\n",
    "\n",
    "    x = Conv2D(256, 5, padding='same')(x)\n",
    "    x = LeakyReLU()(x)\n",
    "\n",
    "    x = Conv2DTranspose(256, 4, strides=2, padding='same')(x)\n",
    "    x = LeakyReLU()(x)\n",
    "\n",
    "    x = Conv2DTranspose(256, 4, strides=2, padding='same')(x)\n",
    "    x = LeakyReLU()(x)\n",
    "\n",
    "    x = Conv2DTranspose(256, 4, strides=2, padding='same')(x)\n",
    "    x = LeakyReLU()(x)\n",
    "\n",
    "    x = Conv2D(512, 5, padding='same')(x)\n",
    "    x = LeakyReLU()(x)\n",
    "    x = Conv2D(512, 5, padding='same')(x)\n",
    "    x = LeakyReLU()(x)\n",
    "    x = Conv2D(CHANNELS, (7,21), activation='tanh', padding='valid')(x)\n",
    "\n",
    "    generator = Model(gen_input, x)\n",
    "    return generator"
   ]
  },
  {
   "cell_type": "code",
   "execution_count": 21,
   "id": "fea867e8",
   "metadata": {},
   "outputs": [
    {
     "name": "stdout",
     "output_type": "stream",
     "text": [
      "Model: \"model_1\"\n",
      "_________________________________________________________________\n",
      " Layer (type)                Output Shape              Param #   \n",
      "=================================================================\n",
      " input_2 (InputLayer)        [(None, 14)]              0         \n",
      "                                                                 \n",
      " dense_1 (Dense)             (None, 71680)             1075200   \n",
      "                                                                 \n",
      " leaky_re_lu_7 (LeakyReLU)   (None, 71680)             0         \n",
      "                                                                 \n",
      " reshape_1 (Reshape)         (None, 14, 40, 128)       0         \n",
      "                                                                 \n",
      " conv2d_4 (Conv2D)           (None, 14, 40, 256)       819456    \n",
      "                                                                 \n",
      " leaky_re_lu_8 (LeakyReLU)   (None, 14, 40, 256)       0         \n",
      "                                                                 \n",
      " conv2d_transpose_3 (Conv2DT  (None, 28, 80, 256)      1048832   \n",
      " ranspose)                                                       \n",
      "                                                                 \n",
      " leaky_re_lu_9 (LeakyReLU)   (None, 28, 80, 256)       0         \n",
      "                                                                 \n",
      " conv2d_transpose_4 (Conv2DT  (None, 56, 160, 256)     1048832   \n",
      " ranspose)                                                       \n",
      "                                                                 \n",
      " leaky_re_lu_10 (LeakyReLU)  (None, 56, 160, 256)      0         \n",
      "                                                                 \n",
      " conv2d_transpose_5 (Conv2DT  (None, 112, 320, 256)    1048832   \n",
      " ranspose)                                                       \n",
      "                                                                 \n",
      " leaky_re_lu_11 (LeakyReLU)  (None, 112, 320, 256)     0         \n",
      "                                                                 \n",
      " conv2d_5 (Conv2D)           (None, 112, 320, 512)     3277312   \n",
      "                                                                 \n",
      " leaky_re_lu_12 (LeakyReLU)  (None, 112, 320, 512)     0         \n",
      "                                                                 \n",
      " conv2d_6 (Conv2D)           (None, 112, 320, 512)     6554112   \n",
      "                                                                 \n",
      " leaky_re_lu_13 (LeakyReLU)  (None, 112, 320, 512)     0         \n",
      "                                                                 \n",
      " conv2d_7 (Conv2D)           (None, 106, 300, 1)       75265     \n",
      "                                                                 \n",
      "=================================================================\n",
      "Total params: 14,947,841\n",
      "Trainable params: 14,947,841\n",
      "Non-trainable params: 0\n",
      "_________________________________________________________________\n"
     ]
    }
   ],
   "source": [
    "generator = create_generator()\n",
    "generator.summary()"
   ]
  },
  {
   "cell_type": "code",
   "execution_count": 22,
   "id": "ef49c8e6",
   "metadata": {},
   "outputs": [],
   "source": [
    "def create_discriminator():\n",
    "    disc_input = Input(shape=(HEIGHT, WIDTH, CHANNELS))\n",
    "\n",
    "    x = Conv2D(256, 3)(disc_input)\n",
    "    x = LeakyReLU()(x)\n",
    "\n",
    "    x = Conv2D(256, 4, strides=2)(x)\n",
    "    x = LeakyReLU()(x)\n",
    "\n",
    "    x = Conv2D(256, 4, strides=2)(x)\n",
    "    x = LeakyReLU()(x)\n",
    "\n",
    "    x = Conv2D(256, 4, strides=2)(x)\n",
    "    x = LeakyReLU()(x)\n",
    "\n",
    "    x = Conv2D(256, 4, strides=2)(x)\n",
    "    x = LeakyReLU()(x)\n",
    "\n",
    "    x = Flatten()(x)\n",
    "    x = Dropout(0.4)(x)\n",
    "\n",
    "    x = Dense(1, activation='sigmoid')(x)\n",
    "    discriminator = Model(disc_input, x)\n",
    "\n",
    "    optimizer = RMSprop(\n",
    "        lr=.0001,\n",
    "        clipvalue=1.0,\n",
    "        decay=1e-8\n",
    "    )\n",
    "\n",
    "    discriminator.compile(\n",
    "        optimizer=optimizer,\n",
    "        loss='binary_crossentropy'\n",
    "    )\n",
    "\n",
    "    return discriminator"
   ]
  },
  {
   "cell_type": "code",
   "execution_count": 23,
   "id": "3855438a",
   "metadata": {},
   "outputs": [
    {
     "name": "stdout",
     "output_type": "stream",
     "text": [
      "Model: \"model_2\"\n",
      "_________________________________________________________________\n",
      " Layer (type)                Output Shape              Param #   \n",
      "=================================================================\n",
      " input_3 (InputLayer)        [(None, 106, 300, 1)]     0         \n",
      "                                                                 \n",
      " conv2d_8 (Conv2D)           (None, 104, 298, 256)     2560      \n",
      "                                                                 \n",
      " leaky_re_lu_14 (LeakyReLU)  (None, 104, 298, 256)     0         \n",
      "                                                                 \n",
      " conv2d_9 (Conv2D)           (None, 51, 148, 256)      1048832   \n",
      "                                                                 \n",
      " leaky_re_lu_15 (LeakyReLU)  (None, 51, 148, 256)      0         \n",
      "                                                                 \n",
      " conv2d_10 (Conv2D)          (None, 24, 73, 256)       1048832   \n",
      "                                                                 \n",
      " leaky_re_lu_16 (LeakyReLU)  (None, 24, 73, 256)       0         \n",
      "                                                                 \n",
      " conv2d_11 (Conv2D)          (None, 11, 35, 256)       1048832   \n",
      "                                                                 \n",
      " leaky_re_lu_17 (LeakyReLU)  (None, 11, 35, 256)       0         \n",
      "                                                                 \n",
      " conv2d_12 (Conv2D)          (None, 4, 16, 256)        1048832   \n",
      "                                                                 \n",
      " leaky_re_lu_18 (LeakyReLU)  (None, 4, 16, 256)        0         \n",
      "                                                                 \n",
      " flatten (Flatten)           (None, 16384)             0         \n",
      "                                                                 \n",
      " dropout (Dropout)           (None, 16384)             0         \n",
      "                                                                 \n",
      " dense_2 (Dense)             (None, 1)                 16385     \n",
      "                                                                 \n",
      "=================================================================\n",
      "Total params: 4,214,273\n",
      "Trainable params: 0\n",
      "Non-trainable params: 4,214,273\n",
      "_________________________________________________________________\n"
     ]
    },
    {
     "name": "stderr",
     "output_type": "stream",
     "text": [
      "/Users/karanhadiyal/anaconda3/lib/python3.10/site-packages/keras/optimizers/legacy/rmsprop.py:143: UserWarning: The `lr` argument is deprecated, use `learning_rate` instead.\n",
      "  super().__init__(name, **kwargs)\n"
     ]
    }
   ],
   "source": [
    "discriminator = create_discriminator()\n",
    "discriminator.trainable = False\n",
    "discriminator.summary()"
   ]
  },
  {
   "cell_type": "code",
   "execution_count": null,
   "id": "e15e1f4c",
   "metadata": {},
   "outputs": [],
   "source": [
    "gan_input = Input(shape=(LATENT_DIM, ))\n",
    "gan_output = discriminator(generator(gan_input))\n",
    "gan = Model(gan_input, gan_output)"
   ]
  },
  {
   "cell_type": "code",
   "execution_count": null,
   "id": "bfb11365",
   "metadata": {},
   "outputs": [],
   "source": [
    "optimizer = RMSprop(lr=.0001, clipvalue=1.0, decay=1e-8)\n",
    "gan.compile(optimizer=optimizer, loss='binary_crossentropy')"
   ]
  },
  {
   "cell_type": "code",
   "execution_count": null,
   "id": "50dec5d0",
   "metadata": {},
   "outputs": [],
   "source": [
    "import time\n",
    "iters = 1000\n",
    "batch_size = 16\n",
    "\n",
    "RES_DIR = 'res2'\n",
    "FILE_PATH = '%s/generated_%d.png'\n",
    "if not os.path.isdir(RES_DIR):\n",
    "    os.mkdir(RES_DIR)\n",
    "\n",
    "CONTROL_SIZE_SQRT = 6\n",
    "control_vectors = np.random.normal(size=(CONTROL_SIZE_SQRT**2, LATENT_DIM)) / 2\n",
    "\n",
    "start = 0\n",
    "d_losses = []\n",
    "a_losses = []\n",
    "images_saved = 0\n",
    "for step in range(iters):\n",
    "    start_time = time.time()\n",
    "    latent_vectors = np.random.normal(size=(batch_size, LATENT_DIM))\n",
    "    generated = generator.predict(latent_vectors)\n",
    "\n",
    "    real = images[start : start+batch_size]\n",
    "    combined_images = np.concatenate([generated, real])\n",
    "\n",
    "    labels = np.concatenate([np.ones((batch_size, 1)), np.zeros((batch_size, 1))])\n",
    "    labels += .05 * np.random.random(labels.shape)\n",
    "\n",
    "    d_loss = discriminator.train_on_batch(combined_images, labels)\n",
    "    d_losses.append(d_loss)\n",
    "\n",
    "    latent_vectors = np.random.normal(size=(batch_size, LATENT_DIM))\n",
    "    misleading_targets = np.zeros((batch_size, 1))\n",
    "\n",
    "    a_loss = gan.train_on_batch(latent_vectors, misleading_targets)\n",
    "    a_losses.append(a_loss)\n",
    "\n",
    "    start += batch_size\n",
    "    \n",
    "    if start > images.shape[0] - batch_size:\n",
    "        start = 0\n",
    "\n",
    "    if step % 50 == 49:\n",
    "        generator.save(os.getcwd() + \"/models/\" + str(step) + \".h5\")\n",
    "\n",
    "        print('%d/%d: d_loss: %.4f,  a_loss: %.4f.  (%.1f sec)' % (step + 1, iters, d_loss, a_loss, time.time() - start_time))\n",
    "\n",
    "        control_image = np.zeros((WIDTH * CONTROL_SIZE_SQRT, HEIGHT * CONTROL_SIZE_SQRT, CHANNELS))\n",
    "        control_generated = generator.predict(control_vectors)\n",
    "        \n",
    "        for i in range(CONTROL_SIZE_SQRT ** 2):\n",
    "            x_off = i % CONTROL_SIZE_SQRT\n",
    "            y_off = i // CONTROL_SIZE_SQRT\n",
    "            control_image[x_off * WIDTH:(x_off + 1) * WIDTH, y_off * HEIGHT:(y_off + 1) * HEIGHT, :] = control_generated[i, :, :, :]\n",
    "        im = Img.fromarray(np.uint8(control_image * 255))#.save(StringIO(), 'jpeg')\n",
    "        im.save(FILE_PATH % (RES_DIR, images_saved))\n",
    "        images_saved += 1"
   ]
  }
 ],
 "metadata": {
  "kernelspec": {
   "display_name": "Python 3 (ipykernel)",
   "language": "python",
   "name": "python3"
  },
  "language_info": {
   "codemirror_mode": {
    "name": "ipython",
    "version": 3
   },
   "file_extension": ".py",
   "mimetype": "text/x-python",
   "name": "python",
   "nbconvert_exporter": "python",
   "pygments_lexer": "ipython3",
   "version": "3.10.9"
  }
 },
 "nbformat": 4,
 "nbformat_minor": 5
}
